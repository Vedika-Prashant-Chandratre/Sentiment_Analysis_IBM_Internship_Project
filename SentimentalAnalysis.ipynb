{
  "cells": [
    {
      "cell_type": "markdown",
      "metadata": {
        "id": "px80hIKrkOWu"
      },
      "source": [
        "# **Import Libraries**"
      ]
    },
    {
      "cell_type": "code",
      "execution_count": 4,
      "metadata": {
        "id": "kZBdIWgbsCL5"
      },
      "outputs": [],
      "source": [
        "# Import libraries\n",
        "import re\n",
        "import nltk\n",
        "import pandas as pd\n",
        "import string\n",
        "import numpy as np\n",
        "from nltk.corpus import stopwords\n",
        "from nltk.tokenize import word_tokenize\n",
        "from nltk.stem import WordNetLemmatizer\n",
        "from sklearn.model_selection import train_test_split,GridSearchCV\n",
        "from sklearn.feature_extraction.text import TfidfVectorizer\n",
        "from sklearn.linear_model import LogisticRegression\n",
        "from sklearn.metrics import accuracy_score, classification_report, confusion_matrix\n",
        "import joblib\n",
        "import matplotlib.pyplot as plt\n"
      ]
    },
    {
      "cell_type": "markdown",
      "metadata": {
        "id": "VrJ3OWtHkax2"
      },
      "source": [
        "# **Load Dataset**"
      ]
    },
    {
      "cell_type": "code",
      "execution_count": 5,
      "metadata": {
        "colab": {
          "base_uri": "https://localhost:8080/"
        },
        "id": "icS8PiuWkiU6",
        "outputId": "edbae75c-0a06-4564-f224-538f583e36fd"
      },
      "outputs": [
        {
          "output_type": "stream",
          "name": "stdout",
          "text": [
            "Dataset Columns: Index(['review', 'sentiment'], dtype='object')\n",
            "Dataset Preview:\n",
            "                                               review sentiment\n",
            "0  One of the other reviewers has mentioned that ...  positive\n",
            "1  A wonderful little production. <br /><br />The...  positive\n",
            "2  I thought this was a wonderful way to spend ti...  positive\n",
            "3  Basically there's a family where a little boy ...  negative\n",
            "4  Petter Mattei's \"Love in the Time of Money\" is...  positive\n"
          ]
        }
      ],
      "source": [
        "# Load dataset\n",
        "df = pd.read_csv(\"/content/IMDB Dataset.csv\", encoding='ISO-8859-1')\n",
        "\n",
        "# Display dataset information\n",
        "print(\"Dataset Columns:\", df.columns)\n",
        "print(\"Dataset Preview:\\n\", df.head())\n",
        "# **Convert Sentiments**\n"
      ]
    },
    {
      "cell_type": "code",
      "source": [
        "# Count Sentiments\n",
        "sentiment_counts = df['sentiment'].value_counts()\n",
        "\n",
        "# Plot Pie Chart\n",
        "plt.figure(figsize=(8, 6))\n",
        "plt.pie(sentiment_counts, labels=sentiment_counts.index, autopct='%1.1f%%', startangle=140, colors=['green', 'red', 'blue'])\n",
        "plt.title('Sentiment Distribution')\n",
        "plt.show()"
      ],
      "metadata": {
        "colab": {
          "base_uri": "https://localhost:8080/",
          "height": 521
        },
        "id": "qgKu1CnKwah9",
        "outputId": "e5bec948-4f74-4c3c-d56a-16231a81807d"
      },
      "execution_count": 6,
      "outputs": [
        {
          "output_type": "display_data",
          "data": {
            "text/plain": [
              "<Figure size 800x600 with 1 Axes>"
            ],
            "image/png": "[encoded data removed]"
          },
          "metadata": {}
        }
      ]
    },
    {
      "cell_type": "markdown",
      "metadata": {
        "id": "bdZCd7kzkmgE"
      },
      "source": [
        "# **Download NLTK Resourcest**"
      ]
    },
    {
      "cell_type": "code",
      "execution_count": 7,
      "metadata": {
        "colab": {
          "base_uri": "https://localhost:8080/"
        },
        "id": "g5Tw7mEOktop",
        "outputId": "f08d6201-40bc-4af0-efb3-b04dd269fc61"
      },
      "outputs": [
        {
          "output_type": "stream",
          "name": "stderr",
          "text": [
            "[nltk_data] Downloading package punkt_tab to /root/nltk_data...\n",
            "[nltk_data]   Unzipping tokenizers/punkt_tab.zip.\n",
            "[nltk_data] Downloading package stopwords to /root/nltk_data...\n",
            "[nltk_data]   Unzipping corpora/stopwords.zip.\n",
            "[nltk_data] Downloading package wordnet to /root/nltk_data...\n"
          ]
        },
        {
          "output_type": "execute_result",
          "data": {
            "text/plain": [
              "True"
            ]
          },
          "metadata": {},
          "execution_count": 7
        }
      ],
      "source": [
        "# Download NLTK Resources\n",
        "nltk.download('punkt_tab')         # Tokenizer models\n",
        "nltk.download('stopwords')         # Stopword list\n",
        "nltk.download('wordnet')           # WordNet lemmatizer\n"
      ]
    },
    {
      "cell_type": "markdown",
      "metadata": {
        "id": "INW1ygbMkzx4"
      },
      "source": [
        "# **Initialize Lemmatizer and Stop Words**"
      ]
    },
    {
      "cell_type": "code",
      "execution_count": 8,
      "metadata": {
        "id": "i3Io6ESvnaCF"
      },
      "outputs": [],
      "source": [
        "# Initialize Lemmatizer and stop words\n",
        "lemmatizer = WordNetLemmatizer()\n",
        "stop_words = set(stopwords.words('english'))\n"
      ]
    },
    {
      "cell_type": "markdown",
      "metadata": {
        "id": "ASy3APIEndIG"
      },
      "source": [
        "# **Preprocessing Function**"
      ]
    },
    {
      "cell_type": "code",
      "execution_count": 9,
      "metadata": {
        "colab": {
          "base_uri": "https://localhost:8080/"
        },
        "id": "0VBFgPEini8g",
        "outputId": "e4ca1149-5a28-447d-ab3a-be291d437ae4"
      },
      "outputs": [
        {
          "output_type": "stream",
          "name": "stdout",
          "text": [
            "                                              review  \\\n",
            "0  One of the other reviewers has mentioned that ...   \n",
            "1  A wonderful little production. <br /><br />The...   \n",
            "2  I thought this was a wonderful way to spend ti...   \n",
            "3  Basically there's a family where a little boy ...   \n",
            "4  Petter Mattei's \"Love in the Time of Money\" is...   \n",
            "\n",
            "                                      Cleaned_Review  \n",
            "0  one reviewer mentioned watching oz episode hoo...  \n",
            "1  wonderful little production br br filming tech...  \n",
            "2  thought wonderful way spend time hot summer we...  \n",
            "3  basically family little boy jake think zombie ...  \n",
            "4  petter mattei love time money visually stunnin...  \n"
          ]
        }
      ],
      "source": [
        "# Preprocessing function\n",
        "def preprocess_text(text):\n",
        "    # Convert text to lowercase\n",
        "    text = text.lower()\n",
        "    # Remove punctuation and special characters\n",
        "    text = re.sub(rf\"[{string.punctuation}]\", \" \", text)\n",
        "    # Remove numbers\n",
        "    text = re.sub(r'\\d+', \" \", text)\n",
        "    # Tokenize text\n",
        "    tokens = word_tokenize(text)\n",
        "    # Remove stopwords and lemmatize tokens\n",
        "    tokens = [lemmatizer.lemmatize(word) for word in tokens if word not in stop_words]\n",
        "    # Rejoin tokens into a single string\n",
        "    return \" \".join(tokens)\n",
        "\n",
        "# Apply preprocessing\n",
        "df['Cleaned_Review'] = df['review'].apply(preprocess_text)\n",
        "\n",
        "# Display cleaned data\n",
        "print(df[['review', 'Cleaned_Review']].head())\n"
      ]
    },
    {
      "cell_type": "markdown",
      "metadata": {
        "id": "Cy08qXDSnrd8"
      },
      "source": [
        "# **Train-Test Split**"
      ]
    },
    {
      "cell_type": "code",
      "execution_count": 10,
      "metadata": {
        "colab": {
          "base_uri": "https://localhost:8080/"
        },
        "id": "Rtr0VZOan1R2",
        "outputId": "a1d35c90-6668-4ab3-8290-d64cbd2aad51"
      },
      "outputs": [
        {
          "output_type": "stream",
          "name": "stdout",
          "text": [
            "sentiment\n",
            "positive    25000\n",
            "negative    25000\n",
            "Name: count, dtype: int64\n",
            "Training Data Shape: (35000,)\n",
            "Testing Data Shape: (15000,)\n"
          ]
        }
      ],
      "source": [
        "# Define features (X) and target (y)\n",
        "X = df['Cleaned_Review']\n",
        "y = df['sentiment']\n",
        "\n",
        "# Check class distribution\n",
        "print(df['sentiment'].value_counts())\n",
        "\n",
        "# Filter classes with fewer than 5 instances\n",
        "class_counts = df['sentiment'].value_counts()\n",
        "valid_classes = class_counts[class_counts >= 5].index\n",
        "df_filtered = df[df['sentiment'].isin(valid_classes)]\n",
        "\n",
        "# Split data into training and testing sets\n",
        "X = df_filtered['Cleaned_Review']\n",
        "y = df_filtered['sentiment']\n",
        "X_train, X_test, y_train, y_test = train_test_split(X, y, test_size=0.3, random_state=42, stratify=y)\n",
        "\n",
        "print(\"Training Data Shape:\", X_train.shape)\n",
        "print(\"Testing Data Shape:\", X_test.shape)\n"
      ]
    },
    {
      "cell_type": "markdown",
      "metadata": {
        "id": "n_XbUuRfoMuc"
      },
      "source": [
        "# **Vectorize Text Data**"
      ]
    },
    {
      "cell_type": "code",
      "execution_count": 11,
      "metadata": {
        "id": "HHbhqAaUo5SG"
      },
      "outputs": [],
      "source": [
        "# Vectorize the text data using TF-IDF\n",
        "vectorizer = TfidfVectorizer(ngram_range=(1, 2), max_features=10000)  # Added n-grams and limited features\n",
        "X_train_vectorized = vectorizer.fit_transform(X_train)\n",
        "X_test_vectorized = vectorizer.transform(X_test)\n",
        "\n"
      ]
    },
    {
      "cell_type": "markdown",
      "metadata": {
        "id": "XasehNtUo6f7"
      },
      "source": [
        "# **Train Model**"
      ]
    },
    {
      "cell_type": "code",
      "execution_count": 12,
      "metadata": {
        "colab": {
          "base_uri": "https://localhost:8080/"
        },
        "id": "VCHjuK1XpCk-",
        "outputId": "47098e61-bfc2-48d6-e97e-131459516cac"
      },
      "outputs": [
        {
          "output_type": "stream",
          "name": "stdout",
          "text": [
            "Model Training Completed.\n"
          ]
        }
      ],
      "source": [
        "# Initialize Logistic Regression with class balancing\n",
        "model = LogisticRegression(max_iter=1000, class_weight='balanced')\n",
        "\n",
        "# Train the model\n",
        "model.fit(X_train_vectorized, y_train)\n",
        "\n",
        "print(\"Model Training Completed.\")\n"
      ]
    },
    {
      "cell_type": "markdown",
      "metadata": {
        "id": "b0jpgz8vpKbs"
      },
      "source": [
        "# **Evaluate Model**"
      ]
    },
    {
      "cell_type": "code",
      "execution_count": 13,
      "metadata": {
        "id": "T9L4qkJVpQMF",
        "colab": {
          "base_uri": "https://localhost:8080/"
        },
        "outputId": "027107d6-5676-485b-fb5c-ff5f904cdfec"
      },
      "outputs": [
        {
          "output_type": "stream",
          "name": "stdout",
          "text": [
            "Accuracy: 89.44%\n",
            "Classification Report:\n",
            "               precision    recall  f1-score   support\n",
            "\n",
            "    negative       0.90      0.88      0.89      7500\n",
            "    positive       0.89      0.90      0.90      7500\n",
            "\n",
            "    accuracy                           0.89     15000\n",
            "   macro avg       0.89      0.89      0.89     15000\n",
            "weighted avg       0.89      0.89      0.89     15000\n",
            "\n",
            "Confusion Matrix:\n",
            " [[6631  869]\n",
            " [ 715 6785]]\n"
          ]
        }
      ],
      "source": [
        "# Make predictions\n",
        "y_pred = model.predict(X_test_vectorized)\n",
        "\n",
        "# Evaluate performance\n",
        "accuracy = accuracy_score(y_test, y_pred)\n",
        "print(f\"Accuracy: {accuracy * 100:.2f}%\")\n",
        "print(\"Classification Report:\\n\", classification_report(y_test, y_pred))\n",
        "print(\"Confusion Matrix:\\n\", confusion_matrix(y_test, y_pred))\n",
        "\n"
      ]
    },
    {
      "cell_type": "markdown",
      "metadata": {
        "id": "-AlOESTmpUP6"
      },
      "source": [
        "# **Save and Load Model**"
      ]
    },
    {
      "cell_type": "code",
      "execution_count": 14,
      "metadata": {
        "id": "_ZQdQYCdpcb8",
        "colab": {
          "base_uri": "https://localhost:8080/"
        },
        "outputId": "65e81372-6f6a-4812-f727-bed2c16eee2e"
      },
      "outputs": [
        {
          "output_type": "stream",
          "name": "stdout",
          "text": [
            "Model Saved Successfully.\n",
            "Model Loaded Successfully.\n"
          ]
        }
      ],
      "source": [
        "# Save the trained model\n",
        "joblib.dump(model, 'sentiment_model.pkl')\n",
        "print(\"Model Saved Successfully.\")\n",
        "\n",
        "# Load the model back\n",
        "loaded_model = joblib.load('sentiment_model.pkl')\n",
        "print(\"Model Loaded Successfully.\")\n"
      ]
    },
    {
      "cell_type": "markdown",
      "metadata": {
        "id": "MRd31TQgpfC5"
      },
      "source": [
        "# **Test with New Data**"
      ]
    },
    {
      "cell_type": "code",
      "execution_count": 15,
      "metadata": {
        "id": "Xr7CYgirpniZ",
        "colab": {
          "base_uri": "https://localhost:8080/"
        },
        "outputId": "69cc4a52-b66a-4d23-dde7-b718d265dc2a"
      },
      "outputs": [
        {
          "output_type": "stream",
          "name": "stdout",
          "text": [
            "Predicted Sentiment: positive\n"
          ]
        }
      ],
      "source": [
        "# Test the model with new data\n",
        "new_text = \"Just published a new blog post. Check it out!\"\n",
        "new_text_cleaned = preprocess_text(new_text)\n",
        "\n",
        "# Vectorize new text\n",
        "new_text_vectorized = vectorizer.transform([new_text_cleaned])\n",
        "\n",
        "# Predict sentiment\n",
        "predicted_sentiment = loaded_model.predict(new_text_vectorized)\n",
        "print(\"Predicted Sentiment:\", predicted_sentiment[0])\n"
      ]
    },
    {
      "cell_type": "code",
      "execution_count": 16,
      "metadata": {
        "id": "ckG0uBt7vRcd",
        "colab": {
          "base_uri": "https://localhost:8080/"
        },
        "outputId": "3401d27a-910f-4c8c-9aec-a7a4fdbe227f"
      },
      "outputs": [
        {
          "output_type": "stream",
          "name": "stdout",
          "text": [
            "Accuracy: 89.44%\n"
          ]
        }
      ],
      "source": [
        "print(f\"Accuracy: {accuracy * 100:.2f}%\")"
      ]
    }
  ],
  "metadata": {
    "colab": {
      "provenance": []
    },
    "kernelspec": {
      "display_name": "Python 3",
      "name": "python3"
    },
    "language_info": {
      "name": "python"
    }
  },
  "nbformat": 4,
  "nbformat_minor": 0
}